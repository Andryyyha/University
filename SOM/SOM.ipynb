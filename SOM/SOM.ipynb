{
 "cells": [
  {
   "cell_type": "code",
   "execution_count": 1,
   "metadata": {},
   "outputs": [],
   "source": [
    "from minisom import MiniSom\n",
    "\n",
    "import numpy as np\n",
    "import matplotlib.pyplot as plt\n",
    "%matplotlib inline"
   ]
  },
  {
   "cell_type": "code",
   "execution_count": 2,
   "metadata": {},
   "outputs": [],
   "source": [
    "iris_data = np.genfromtxt('iris.csv', delimiter=',', usecols=(0,1,2,3))\n",
    "iris_data = np.apply_along_axis(lambda x: x/np.linalg.norm(x), 1, iris_data)"
   ]
  },
  {
   "cell_type": "code",
   "execution_count": 3,
   "metadata": {},
   "outputs": [],
   "source": [
    "som = MiniSom(25, 25, 4, sigma = 1.0, learning_rate = 0.1)\n",
    "som.random_weights_init(iris_data)\n",
    "som.train_random(iris_data, 1000)"
   ]
  },
  {
   "cell_type": "code",
   "execution_count": 4,
   "metadata": {},
   "outputs": [
    {
     "data": {
      "image/png": "[encoded data removed]",
      "text/plain": [
       "<Figure size 432x288 with 1 Axes>"
      ]
     },
     "metadata": {},
     "output_type": "display_data"
    }
   ],
   "source": [
    "\n",
    "\n",
    "target = np.genfromtxt('iris.csv', delimiter=',', usecols=(4), dtype=str)\n",
    "t = np.zeros(len(target), dtype=int)\n",
    "t[target == 'setosa'] = 0\n",
    "t[target == 'versicolor'] = 1\n",
    "t[target == 'virginica'] = 2\n",
    "\n",
    "markers = ['v', '*', 'o']\n",
    "colors = ['r', 'g', 'b']\n",
    "for cnt, xx in enumerate(iris_data):\n",
    "    w = som.winner(xx)  # getting the winner\n",
    "    plt.plot(w[0]+.5, w[1]+.5, markers[t[cnt]], markerfacecolor=colors[t[cnt]],\n",
    "             markeredgecolor=colors[t[cnt]], markersize=5, markeredgewidth=0.5)\n",
    "plt.axis([0, 25, 0, 25])\n",
    "plt.show()"
   ]
  },
  {
   "cell_type": "code",
   "execution_count": null,
   "metadata": {},
   "outputs": [],
   "source": []
  }
 ],
 "metadata": {
  "kernelspec": {
   "display_name": "Python 3",
   "language": "python",
   "name": "python3"
  },
  "language_info": {
   "codemirror_mode": {
    "name": "ipython",
    "version": 3
   },
   "file_extension": ".py",
   "mimetype": "text/x-python",
   "name": "python",
   "nbconvert_exporter": "python",
   "pygments_lexer": "ipython3",
   "version": "3.6.5"
  }
 },
 "nbformat": 4,
 "nbformat_minor": 2
}
